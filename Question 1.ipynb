{
 "cells": [
  {
   "cell_type": "code",
   "execution_count": null,
   "metadata": {},
   "outputs": [],
   "source": [
    "!pip install os time pandas string numpy matplotlib tensorflow keras tokenizers\n"
   ]
  },
  {
   "cell_type": "code",
   "execution_count": 57,
   "metadata": {
    "execution": {
     "iopub.execute_input": "2024-11-16T20:25:23.639426Z",
     "iopub.status.busy": "2024-11-16T20:25:23.638374Z",
     "iopub.status.idle": "2024-11-16T20:25:23.648236Z",
     "shell.execute_reply": "2024-11-16T20:25:23.647259Z",
     "shell.execute_reply.started": "2024-11-16T20:25:23.639366Z"
    }
   },
   "outputs": [],
   "source": [
    "import os\n",
    "import time\n",
    "import pandas as pd\n",
    "import string\n",
    "import numpy as np\n",
    "import matplotlib.pyplot as plt\n",
    "import tensorflow as tf\n",
    "from tensorflow import keras\n",
    "from tensorflow.keras.preprocessing.text import Tokenizer\n",
    "from tensorflow.keras.preprocessing.sequence import pad_sequences\n",
    "from tensorflow.keras.models import Model\n",
    "from tensorflow.keras.layers import Input, Embedding, LSTM, Dense, TimeDistributed, Dropout\n",
    "from tensorflow.keras.optimizers import Adam\n",
    "from tokenizers import Tokenizer, models, pre_tokenizers, trainers, decoders\n"
   ]
  },
  {
   "cell_type": "markdown",
   "metadata": {
    "execution": {
     "iopub.status.busy": "2024-11-16T19:18:26.874394Z",
     "iopub.status.idle": "2024-11-16T19:18:26.874748Z",
     "shell.execute_reply": "2024-11-16T19:18:26.874588Z",
     "shell.execute_reply.started": "2024-11-16T19:18:26.874570Z"
    }
   },
   "source": [
    "## Loading the DataSet"
   ]
  },
  {
   "cell_type": "code",
   "execution_count": 2,
   "metadata": {
    "execution": {
     "iopub.execute_input": "2024-11-16T19:04:28.081660Z",
     "iopub.status.busy": "2024-11-16T19:04:28.080581Z",
     "iopub.status.idle": "2024-11-16T19:04:28.264593Z",
     "shell.execute_reply": "2024-11-16T19:04:28.263755Z",
     "shell.execute_reply.started": "2024-11-16T19:04:28.081617Z"
    }
   },
   "outputs": [],
   "source": [
    "bible_path = \"/kaggle/input/bible-data\"\n",
    "quran_path = \"/kaggle/input/quran-data\"\n",
    "\n",
    "\n",
    "train_en_bible_file = os.path.join(bible_path, \"train.en\")\n",
    "train_ur_bible_file = os.path.join(bible_path, \"train.ur\")\n",
    "val_en_bible_file = os.path.join(bible_path, \"dev.en\")\n",
    "val_ur_bible_file = os.path.join(bible_path, \"dev.ur\")\n",
    "test_en_bible_file = os.path.join(bible_path, \"test.en\")\n",
    "test_ur_bible_file = os.path.join(bible_path, \"test.ur\")\n",
    "\n",
    "\n",
    "train_en_quran_file = os.path.join(quran_path, \"train.en\")\n",
    "train_ur_quran_file = os.path.join(quran_path, \"train.ur\")\n",
    "val_en_quran_file = os.path.join(quran_path, \"dev.en\")\n",
    "val_ur_quran_file = os.path.join(quran_path, \"dev.ur\")\n",
    "test_en_quran_file = os.path.join(quran_path, \"test.en\")\n",
    "test_ur_quran_file = os.path.join(quran_path, \"test.ur\")\n",
    "\n",
    "def load_sentences(en_file_path, ur_file_path):\n",
    "    en_sentences, ur_sentences = [], []\n",
    "    with open(en_file_path, 'r', encoding='utf-8') as en_file, \\\n",
    "         open(ur_file_path, 'r', encoding='utf-8') as ur_file:\n",
    "        for en_line, ur_line in zip(en_file, ur_file):\n",
    "            en_sentences.append(en_line.strip())\n",
    "            ur_sentences.append(ur_line.strip())\n",
    "    return en_sentences, ur_sentences\n",
    "\n",
    "\n",
    "train_en_bible, train_ur_bible = load_sentences(train_en_bible_file, train_ur_bible_file)\n",
    "val_en_bible, val_ur_bible = load_sentences(val_en_bible_file, val_ur_bible_file)\n",
    "test_en_bible, test_ur_bible = load_sentences(test_en_bible_file, test_ur_bible_file)\n",
    "\n",
    "train_en_quran, train_ur_quran = load_sentences(train_en_quran_file, train_ur_quran_file)\n",
    "val_en_quran, val_ur_quran = load_sentences(val_en_quran_file, val_ur_quran_file)\n",
    "test_en_quran, test_ur_quran = load_sentences(test_en_quran_file, test_ur_quran_file)\n",
    "\n",
    "\n",
    "train_en_combined = train_en_bible + train_en_quran\n",
    "train_ur_combined = train_ur_bible + train_ur_quran\n",
    "\n",
    "val_en_combined = val_en_bible + val_en_quran\n",
    "val_ur_combined = val_ur_bible + val_ur_quran\n",
    "\n",
    "test_en_combined = test_en_bible + test_en_quran\n",
    "test_ur_combined = test_ur_bible + test_ur_quran\n",
    "\n",
    "\n",
    "train_data = pd.DataFrame({'English': train_en_combined, 'Urdu': train_ur_combined})\n",
    "val_data = pd.DataFrame({'English': val_en_combined, 'Urdu': val_ur_combined})\n",
    "test_data = pd.DataFrame({'English': test_en_combined, 'Urdu': test_ur_combined})\n",
    "\n"
   ]
  },
  {
   "cell_type": "markdown",
   "metadata": {},
   "source": [
    "## Data Preprocessing"
   ]
  },
  {
   "cell_type": "code",
   "execution_count": 3,
   "metadata": {
    "execution": {
     "iopub.execute_input": "2024-11-16T19:04:29.934203Z",
     "iopub.status.busy": "2024-11-16T19:04:29.933214Z",
     "iopub.status.idle": "2024-11-16T19:04:30.358757Z",
     "shell.execute_reply": "2024-11-16T19:04:30.357649Z",
     "shell.execute_reply.started": "2024-11-16T19:04:29.934152Z"
    }
   },
   "outputs": [
    {
     "name": "stdout",
     "output_type": "stream",
     "text": [
      "Cleaned training data sample:                                              English  \\\n",
      "0  ﻿the book of the generation of jesus christ th...   \n",
      "1  abraham begat isaac and isaac begat jacob and ...   \n",
      "2  and judas begat phares and zara of thamar and ...   \n",
      "3  and aram begat aminadab and aminadab begat naa...   \n",
      "4  and salmon begat booz of rachab and booz begat...   \n",
      "\n",
      "                                                Urdu  \n",
      "0         ﻿یسوع مسیح ابن داود ابن ابرہام کا نسب نامہ  \n",
      "1  ابراہام سے اضحاق پیدا ہوا اور اضحاق سے یعقوب پ...  \n",
      "2  اور یہوداہ سے فارص اور زارح تمر سے پیدا ہوئے ا...  \n",
      "3  اور رام سے عمینداب پیدا ہوا اور عمینداب سے نحس...  \n",
      "4  اور سلمون سے بوعز راحب سے پیدا ہوا اور بوعز سے...  \n",
      "Cleaned validation data sample:                                              English  \\\n",
      "0  this then is the message which we have heard o...   \n",
      "1  if we say that we have fellowship with him and...   \n",
      "2  but if we walk in the light as he is in the li...   \n",
      "3  if we say that we have no sin we deceive ourse...   \n",
      "4  if we confess our sins he is faithful and just...   \n",
      "\n",
      "                                                Urdu  \n",
      "0  اس سے سنکر جو پیغام ہم تمہیں دیتے ہیں وہ یہ ہے...  \n",
      "1  اگر ہمیں کہیں کہ ہماری اس کے ساتھ شراکت ہے اور...  \n",
      "2  لیکن اگر ہم نور میں چلیں جس طرح کہ وہ نور میں ...  \n",
      "3  اگر ہم کہیں کہ ہم بے گناہ ہیں تو اپنے آپ کو فر...  \n",
      "4  اگر اپنے گناہوں کا اقرار کریں تو وہ ہمارے گناہ...  \n",
      "Cleaned test data sample:                                              English  \\\n",
      "0  and to them it was given that they should not ...   \n",
      "1  and in those days shall men seek death and sha...   \n",
      "2  and the shapes of the locusts were like unto h...   \n",
      "3  and they had hair as the hair of women and the...   \n",
      "4  and they had breastplates as it were breastpla...   \n",
      "\n",
      "                                                Urdu  \n",
      "0  اور انہیں جان سے مارنے کا نہیں بلکہ پانچ مہینے...  \n",
      "1  ان دنوں میں آدمی موت ڈھونڈیں گے مگر ہرگز نہ پا...  \n",
      "2  اور ان ڈڈیوں کی صورتیں ان گھوڑوں کی سی تھیں جو...  \n",
      "3      اور بال عورتوں کے سے تھے اور دانت ببر کے سے ۔  \n",
      "4  ان کے پاس لوہے کے سے بکتر تھے اور ان کے پروں ک...  \n"
     ]
    }
   ],
   "source": [
    "def clean_text(text):\n",
    "    text = text.translate(str.maketrans('', '', string.punctuation))\n",
    "    text = text.lower()\n",
    "    text = ' '.join(text.split())\n",
    "    return text.strip()\n",
    "\n",
    "train_data['English'] = train_data['English'].apply(clean_text)\n",
    "train_data['Urdu'] = train_data['Urdu'].apply(clean_text)\n",
    "\n",
    "val_data['English'] = val_data['English'].apply(clean_text)\n",
    "val_data['Urdu'] = val_data['Urdu'].apply(clean_text)\n",
    "\n",
    "test_data['English'] = test_data['English'].apply(clean_text)\n",
    "test_data['Urdu'] = test_data['Urdu'].apply(clean_text)\n",
    "\n",
    "print(\"Cleaned training data sample:\", train_data.head())\n",
    "print(\"Cleaned validation data sample:\", val_data.head())\n",
    "print(\"Cleaned test data sample:\", test_data.head())\n"
   ]
  },
  {
   "cell_type": "markdown",
   "metadata": {},
   "source": [
    "## Tokenization "
   ]
  },
  {
   "cell_type": "code",
   "execution_count": null,
   "metadata": {},
   "outputs": [],
   "source": [
    "def train_bpe_tokenizer(texts, vocab_size=10000):\n",
    "    tokenizer = Tokenizer(models.BPE())\n",
    "    tokenizer.pre_tokenizer = pre_tokenizers.Whitespace()\n",
    "    trainer = trainers.BpeTrainer(vocab_size=vocab_size, min_frequency=2, show_progress=True)\n",
    "    tokenizer.train_from_iterator(texts, trainer=trainer)\n",
    "    return tokenizer\n",
    "\n",
    "def tokenize_bpe(text, tokenizer):\n",
    "    return tokenizer.encode(text).ids"
   ]
  },
  {
   "cell_type": "code",
   "execution_count": 4,
   "metadata": {
    "execution": {
     "iopub.execute_input": "2024-11-16T19:04:33.172058Z",
     "iopub.status.busy": "2024-11-16T19:04:33.171649Z",
     "iopub.status.idle": "2024-11-16T19:04:35.699738Z",
     "shell.execute_reply": "2024-11-16T19:04:35.698687Z",
     "shell.execute_reply.started": "2024-11-16T19:04:33.172019Z"
    }
   },
   "outputs": [
    {
     "name": "stdout",
     "output_type": "stream",
     "text": [
      "\n",
      "\n",
      "\n",
      "Tokenized training data sample:\n",
      "                                       English_tokens  \\\n",
      "0  [89, 91, 852, 114, 91, 3571, 114, 424, 591, 91...   \n",
      "1  [1346, 3403, 3770, 95, 3770, 3403, 2833, 95, 2...   \n",
      "2  [95, 4007, 3403, 1746, 447, 95, 30, 138, 5, 11...   \n",
      "3  [95, 138, 289, 3403, 289, 94, 285, 267, 95, 28...   \n",
      "4  [95, 2157, 1155, 3403, 477, 8623, 114, 22, 380...   \n",
      "\n",
      "                                         Urdu_tokens  \n",
      "0  [89, 441, 626, 1796, 4139, 1796, 2543, 147, 62...  \n",
      "1  [9378, 9409, 117, 5545, 711, 702, 99, 5545, 11...  \n",
      "2  [99, 3660, 117, 8157, 52, 99, 2903, 44, 137, 4...  \n",
      "3  [99, 1391, 117, 56, 502, 5303, 711, 702, 99, 5...  \n",
      "4  [99, 862, 217, 117, 413, 6450, 9373, 40, 117, ...  \n"
     ]
    }
   ],
   "source": [
    "train_texts = train_data['English'].tolist() + train_data['Urdu'].tolist()\n",
    "val_texts = val_data['English'].tolist() + val_data['Urdu'].tolist()\n",
    "test_texts = test_data['English'].tolist() + test_data['Urdu'].tolist()\n",
    "\n",
    "bpe_tokenizer = train_bpe_tokenizer(train_texts)\n",
    "\n",
    "train_data['English_tokens'] = train_data['English'].apply(lambda x: tokenize_bpe(x, bpe_tokenizer))\n",
    "train_data['Urdu_tokens'] = train_data['Urdu'].apply(lambda x: tokenize_bpe(x, bpe_tokenizer))\n",
    "\n",
    "val_data['English_tokens'] = val_data['English'].apply(lambda x: tokenize_bpe(x, bpe_tokenizer))\n",
    "val_data['Urdu_tokens'] = val_data['Urdu'].apply(lambda x: tokenize_bpe(x, bpe_tokenizer))\n",
    "\n",
    "test_data['English_tokens'] = test_data['English'].apply(lambda x: tokenize_bpe(x, bpe_tokenizer))\n",
    "test_data['Urdu_tokens'] = test_data['Urdu'].apply(lambda x: tokenize_bpe(x, bpe_tokenizer))\n",
    "\n",
    "print(\"Tokenized training data sample:\\n\", train_data[['English_tokens', 'Urdu_tokens']].head())\n"
   ]
  },
  {
   "cell_type": "markdown",
   "metadata": {
    "execution": {
     "iopub.execute_input": "2024-11-16T19:04:35.702705Z",
     "iopub.status.busy": "2024-11-16T19:04:35.701854Z",
     "iopub.status.idle": "2024-11-16T19:04:35.729811Z",
     "shell.execute_reply": "2024-11-16T19:04:35.728852Z",
     "shell.execute_reply.started": "2024-11-16T19:04:35.702654Z"
    }
   },
   "source": [
    "## Padding for training the Transformer\n"
   ]
  },
  {
   "cell_type": "code",
   "execution_count": 6,
   "metadata": {
    "execution": {
     "iopub.execute_input": "2024-11-16T19:04:35.731172Z",
     "iopub.status.busy": "2024-11-16T19:04:35.730865Z",
     "iopub.status.idle": "2024-11-16T19:04:36.374140Z",
     "shell.execute_reply": "2024-11-16T19:04:36.373164Z",
     "shell.execute_reply.started": "2024-11-16T19:04:35.731140Z"
    }
   },
   "outputs": [
    {
     "name": "stdout",
     "output_type": "stream",
     "text": [
      "Padded training data sample:\n",
      "                                       English_tokens\n",
      "0  [89, 91, 852, 114, 91, 3571, 114, 424, 591, 91...\n",
      "1  [1346, 3403, 3770, 95, 3770, 3403, 2833, 95, 2...\n",
      "2  [95, 4007, 3403, 1746, 447, 95, 30, 138, 5, 11...\n",
      "3  [95, 138, 289, 3403, 289, 94, 285, 267, 95, 28...\n",
      "4  [95, 2157, 1155, 3403, 477, 8623, 114, 22, 380...\n",
      "Padded validation data sample:\n",
      "                                       English_tokens\n",
      "0  [269, 272, 101, 91, 4538, 248, 152, 228, 1105,...\n",
      "1  [249, 152, 301, 148, 152, 228, 6923, 208, 178,...\n",
      "2  [233, 249, 152, 2587, 94, 91, 1010, 141, 129, ...\n",
      "3  [249, 152, 301, 148, 152, 228, 140, 635, 152, ...\n",
      "4  [249, 152, 4823, 286, 1433, 129, 101, 3264, 95...\n",
      "                                      English_tokens  English_token_length  \\\n",
      "0  [269, 272, 101, 91, 4538, 248, 152, 228, 1105,...                   256   \n",
      "1  [249, 152, 301, 148, 152, 228, 6923, 208, 178,...                   256   \n",
      "2  [233, 249, 152, 2587, 94, 91, 1010, 141, 129, ...                   256   \n",
      "3  [249, 152, 301, 148, 152, 228, 140, 635, 152, ...                   256   \n",
      "4  [249, 152, 4823, 286, 1433, 129, 101, 3264, 95...                   256   \n",
      "\n",
      "                                         Urdu_tokens  Urdu_token_length  \n",
      "0  [106, 117, 2636, 156, 4186, 171, 457, 991, 123...                256  \n",
      "1  [311, 964, 980, 115, 905, 106, 108, 377, 6621,...                256  \n",
      "2  [613, 311, 171, 1868, 122, 4162, 309, 456, 115...                256  \n",
      "3  [311, 171, 980, 115, 171, 529, 993, 123, 155, ...                256  \n",
      "4  [311, 253, 2100, 147, 3685, 583, 155, 139, 578...                256  \n"
     ]
    }
   ],
   "source": [
    "max_urdu_len_train =   max(train_data['Urdu_tokens'].apply(len))\n",
    "\n",
    "train_data['English_tokens'] = train_data['English_tokens'].apply(lambda x: pad_sequences([x], maxlen=max_urdu_len_train, padding='post', truncating='post')[0])\n",
    "\n",
    "train_data['Urdu_tokens'] = train_data['Urdu_tokens'].apply(lambda x: pad_sequences([x], maxlen=max_urdu_len_train, padding='post', truncating='post')[0])\n",
    "\n",
    "val_data['English_tokens'] = val_data['English_tokens'].apply(lambda x: pad_sequences([x], maxlen=max_urdu_len_train, padding='post', truncating='post')[0])\n",
    "val_data['Urdu_tokens'] = val_data['Urdu_tokens'].apply(lambda x: pad_sequences([x], maxlen=max_urdu_len_train, padding='post', truncating='post')[0])\n",
    "\n",
    "\n",
    "test_data['English_tokens'] = test_data['English_tokens'].apply(lambda x: pad_sequences([x], maxlen=max_urdu_len_train, padding='post', truncating='post')[0])\n",
    "test_data['Urdu_tokens'] = test_data['Urdu_tokens'].apply(lambda x: pad_sequences([x], maxlen=max_urdu_len_train, padding='post', truncating='post')[0])\n",
    "\n",
    "\n",
    "print(\"Padded training data sample:\\n\", train_data[['English_tokens']].head())\n",
    "print(\"Padded validation data sample:\\n\", val_data[['English_tokens']].head())\n",
    "\n",
    "\n",
    "\n",
    "# Inspect the lengths of English and Urdu tokens\n",
    "val_data['English_token_length'] = val_data['English_tokens'].apply(len)\n",
    "val_data['Urdu_token_length'] = val_data['Urdu_tokens'].apply(len)\n",
    "\n",
    "# Display the lengths alongside the data\n",
    "print(val_data[['English_tokens', 'English_token_length', 'Urdu_tokens', 'Urdu_token_length']].head())\n"
   ]
  },
  {
   "cell_type": "markdown",
   "metadata": {},
   "source": [
    "## Transformer Implementation"
   ]
  },
  {
   "cell_type": "markdown",
   "metadata": {},
   "source": [
    "### Hyper Parameter Tuning"
   ]
  },
  {
   "cell_type": "code",
   "execution_count": 32,
   "metadata": {
    "execution": {
     "iopub.execute_input": "2024-11-16T19:46:42.485029Z",
     "iopub.status.busy": "2024-11-16T19:46:42.484162Z",
     "iopub.status.idle": "2024-11-16T19:46:42.492280Z",
     "shell.execute_reply": "2024-11-16T19:46:42.491258Z",
     "shell.execute_reply.started": "2024-11-16T19:46:42.484985Z"
    }
   },
   "outputs": [],
   "source": [
    "MAX_LEN_EN = max([len(seq) for seq in train_data['English_tokens']])\n",
    "MAX_LEN_UR = max([len(seq) for seq in train_data['Urdu_tokens']])\n",
    "MAX_LEN = max(MAX_LEN_EN, MAX_LEN_UR)\n",
    "\n",
    "D_MODEL = 512\n",
    "NUM_HEADS = 2\n",
    "NUM_LAYERS = 6\n",
    "HIDDEN_UNITS = 512\n",
    "DROPOUT_RATE = 0.1\n",
    "LEARNING_RATE = 1e-4\n",
    "BATCH_SIZE = 32\n",
    "EPOCHS = 5\n"
   ]
  },
  {
   "cell_type": "markdown",
   "metadata": {},
   "source": [
    "### Building the Encoder and Decoder"
   ]
  },
  {
   "cell_type": "code",
   "execution_count": 33,
   "metadata": {
    "execution": {
     "iopub.execute_input": "2024-11-16T19:47:11.921707Z",
     "iopub.status.busy": "2024-11-16T19:47:11.921337Z",
     "iopub.status.idle": "2024-11-16T19:47:11.939282Z",
     "shell.execute_reply": "2024-11-16T19:47:11.938160Z",
     "shell.execute_reply.started": "2024-11-16T19:47:11.921674Z"
    }
   },
   "outputs": [],
   "source": [
    "def get_positional_encoding(seq_len, d_model):\n",
    "\n",
    "    position = tf.range(seq_len, dtype=tf.float32)\n",
    "    position = position[:, tf.newaxis]  # Shape (seq_len, 1)\n",
    "    \n",
    "    div_term = tf.exp(tf.range(0, d_model, 2, dtype=tf.float32) * -(tf.math.log(10000.0) / d_model))\n",
    "    pos_encoding = position * div_term\n",
    "    pos_encoding = tf.concat([tf.sin(pos_encoding), tf.cos(pos_encoding)], axis=-1)\n",
    "    \n",
    "    pos_encoding = pos_encoding[tf.newaxis, ...] \n",
    "    return pos_encoding\n",
    "\n",
    "def transformer_encoder(inputs, num_heads, hidden_units, dropout_rate):\n",
    "    attn_output = layers.MultiHeadAttention(num_heads=num_heads, key_dim=D_MODEL)(inputs, inputs)\n",
    "    attn_output = layers.Dropout(dropout_rate)(attn_output)\n",
    "    out1 = layers.LayerNormalization(epsilon=1e-6)(inputs + attn_output)\n",
    "    \n",
    "    ffn_output = layers.Dense(hidden_units, activation='relu')(out1)\n",
    "    ffn_output = layers.Dense(D_MODEL)(ffn_output)\n",
    "    ffn_output = layers.Dropout(dropout_rate)(ffn_output)\n",
    "    out2 = layers.LayerNormalization(epsilon=1e-6)(out1 + ffn_output)\n",
    "    \n",
    "    return out2\n",
    "\n",
    "def transformer_decoder(inputs, enc_output, num_heads, hidden_units, dropout_rate):\n",
    "    attn_output1 = layers.MultiHeadAttention(num_heads=num_heads, key_dim=D_MODEL)(inputs, inputs)\n",
    "    attn_output1 = layers.Dropout(dropout_rate)(attn_output1)\n",
    "    out1 = layers.LayerNormalization(epsilon=1e-6)(inputs + attn_output1)\n",
    "    \n",
    "    attn_output2 = layers.MultiHeadAttention(num_heads=num_heads, key_dim=D_MODEL)(out1, enc_output)\n",
    "    attn_output2 = layers.Dropout(dropout_rate)(attn_output2)\n",
    "    out2 = layers.LayerNormalization(epsilon=1e-6)(out1 + attn_output2)\n",
    "    \n",
    "    ffn_output = layers.Dense(hidden_units, activation='relu')(out2)\n",
    "    ffn_output = layers.Dense(D_MODEL)(ffn_output)\n",
    "    ffn_output = layers.Dropout(dropout_rate)(ffn_output)\n",
    "    out3 = layers.LayerNormalization(epsilon=1e-6)(out2 + ffn_output)\n",
    "    \n",
    "    return out3\n",
    "\n",
    "def build_transformer_model(english_vocab_size, urdu_vocab_size, max_seq_length, D_MODEL, NUM_HEADS, NUM_LAYERS, HIDDEN_UNITS, DROPOUT_RATE):\n",
    "    encoder_inputs = layers.Input(shape=(max_seq_length,), name=\"encoder_inputs\")\n",
    "    encoder_embedding = layers.Embedding(english_vocab_size, D_MODEL)(encoder_inputs)\n",
    "    \n",
    "    pos_encoding = get_positional_encoding(max_seq_length, D_MODEL)\n",
    "    encoder_embedding += pos_encoding[:, :max_seq_length, :]\n",
    "    \n",
    "    enc_output = encoder_embedding\n",
    "    for _ in range(NUM_LAYERS):\n",
    "        enc_output = transformer_encoder(enc_output, NUM_HEADS, HIDDEN_UNITS, DROPOUT_RATE)\n",
    "    \n",
    "    decoder_inputs = layers.Input(shape=(max_seq_length,), name=\"decoder_inputs\")\n",
    "    decoder_embedding = layers.Embedding(urdu_vocab_size, D_MODEL)(decoder_inputs)\n",
    "    \n",
    "    decoder_pos_encoding = get_positional_encoding(max_seq_length, D_MODEL)\n",
    "    decoder_embedding += decoder_pos_encoding[:, :max_seq_length, :]\n",
    "    \n",
    "    dec_output = decoder_embedding\n",
    "    for _ in range(NUM_LAYERS):\n",
    "        dec_output = transformer_decoder(dec_output, enc_output, NUM_HEADS, HIDDEN_UNITS, DROPOUT_RATE)\n",
    "    \n",
    "    decoder_dense = layers.TimeDistributed(layers.Dense(urdu_vocab_size, activation='softmax'))(dec_output)\n",
    "\n",
    "    model = tf.keras.Model(inputs=[encoder_inputs, decoder_inputs], outputs=decoder_dense)\n",
    "    \n",
    "    return model"
   ]
  },
  {
   "cell_type": "code",
   "execution_count": 34,
   "metadata": {
    "execution": {
     "iopub.execute_input": "2024-11-16T19:47:16.331477Z",
     "iopub.status.busy": "2024-11-16T19:47:16.330724Z",
     "iopub.status.idle": "2024-11-16T19:47:17.341297Z",
     "shell.execute_reply": "2024-11-16T19:47:17.340522Z",
     "shell.execute_reply.started": "2024-11-16T19:47:16.331432Z"
    }
   },
   "outputs": [],
   "source": [
    "transformer_model = build_transformer_model(english_vocab_size, urdu_vocab_size, MAX_LEN, D_MODEL, NUM_HEADS, NUM_LAYERS, HIDDEN_UNITS, DROPOUT_RATE)\n",
    "\n",
    "transformer_model.compile(optimizer=Adam(learning_rate=LEARNING_RATE), loss=\"sparse_categorical_crossentropy\", metrics=[\"accuracy\"])"
   ]
  },
  {
   "cell_type": "code",
   "execution_count": 35,
   "metadata": {
    "execution": {
     "iopub.execute_input": "2024-11-16T19:47:29.435312Z",
     "iopub.status.busy": "2024-11-16T19:47:29.434890Z",
     "iopub.status.idle": "2024-11-16T19:54:53.260771Z",
     "shell.execute_reply": "2024-11-16T19:54:53.259942Z",
     "shell.execute_reply.started": "2024-11-16T19:47:29.435273Z"
    }
   },
   "outputs": [
    {
     "name": "stdout",
     "output_type": "stream",
     "text": [
      "Epoch 1/5\n"
     ]
    },
    {
     "name": "stderr",
     "output_type": "stream",
     "text": [
      "W0000 00:00:1731786504.153009     101 assert_op.cc:38] Ignoring Assert operator compile_loss/sparse_categorical_crossentropy/SparseSoftmaxCrossEntropyWithLogits/assert_equal_1/Assert/Assert\n",
      "I0000 00:00:1731786642.734913     101 asm_compiler.cc:369] ptxas warning : Registers are spilled to local memory in function 'loop_add_subtract_fusion_53', 432 bytes spill stores, 468 bytes spill loads\n",
      "ptxas warning : Registers are spilled to local memory in function '__cuda_sm3x_div_rn_noftz_f32_slowpath', 44 bytes spill stores, 44 bytes spill loads\n",
      "ptxas warning : Registers are spilled to local memory in function 'loop_add_subtract_fusion_44', 152 bytes spill stores, 184 bytes spill loads\n",
      "ptxas warning : Registers are spilled to local memory in function '__cuda_sm3x_div_rn_noftz_f32_slowpath', 68 bytes spill stores, 68 bytes spill loads\n",
      "\n"
     ]
    },
    {
     "name": "stdout",
     "output_type": "stream",
     "text": [
      "\u001b[1m31/32\u001b[0m \u001b[32m━━━━━━━━━━━━━━━━━━━\u001b[0m\u001b[37m━\u001b[0m \u001b[1m0s\u001b[0m 570ms/step - accuracy: 0.7853 - loss: 4.4752"
     ]
    },
    {
     "name": "stderr",
     "output_type": "stream",
     "text": [
      "W0000 00:00:1731786665.140215     102 assert_op.cc:38] Ignoring Assert operator compile_loss/sparse_categorical_crossentropy/SparseSoftmaxCrossEntropyWithLogits/assert_equal_1/Assert/Assert\n",
      "I0000 00:00:1731786792.083365     102 asm_compiler.cc:369] ptxas warning : Registers are spilled to local memory in function 'loop_add_subtract_fusion_51', 36 bytes spill stores, 56 bytes spill loads\n",
      "ptxas warning : Registers are spilled to local memory in function '__cuda_sm3x_div_rn_noftz_f32_slowpath', 4 bytes spill stores, 4 bytes spill loads\n",
      "ptxas warning : Registers are spilled to local memory in function 'loop_add_subtract_fusion_40', 432 bytes spill stores, 468 bytes spill loads\n",
      "ptxas warning : Registers are spilled to local memory in function '__cuda_sm3x_div_rn_noftz_f32_slowpath', 44 bytes spill stores, 44 bytes spill loads\n",
      "ptxas warning : Registers are spilled to local memory in function 'loop_add_subtract_fusion_39', 48 bytes spill stores, 48 bytes spill loads\n",
      "\n"
     ]
    },
    {
     "name": "stdout",
     "output_type": "stream",
     "text": [
      "\u001b[1m32/32\u001b[0m \u001b[32m━━━━━━━━━━━━━━━━━━━━\u001b[0m\u001b[37m\u001b[0m \u001b[1m0s\u001b[0m 5s/step - accuracy: 0.7880 - loss: 4.4289   "
     ]
    },
    {
     "name": "stderr",
     "output_type": "stream",
     "text": [
      "W0000 00:00:1731786798.307904     102 assert_op.cc:38] Ignoring Assert operator compile_loss/sparse_categorical_crossentropy/SparseSoftmaxCrossEntropyWithLogits/assert_equal_1/Assert/Assert\n",
      "W0000 00:00:1731786810.180043     100 assert_op.cc:38] Ignoring Assert operator compile_loss/sparse_categorical_crossentropy/SparseSoftmaxCrossEntropyWithLogits/assert_equal_1/Assert/Assert\n"
     ]
    },
    {
     "name": "stdout",
     "output_type": "stream",
     "text": [
      "\u001b[1m32/32\u001b[0m \u001b[32m━━━━━━━━━━━━━━━━━━━━\u001b[0m\u001b[37m\u001b[0m \u001b[1m368s\u001b[0m 6s/step - accuracy: 0.7905 - loss: 4.3855 - val_accuracy: 0.8773 - val_loss: 1.6476\n",
      "Epoch 2/5\n",
      "\u001b[1m32/32\u001b[0m \u001b[32m━━━━━━━━━━━━━━━━━━━━\u001b[0m\u001b[37m\u001b[0m \u001b[1m19s\u001b[0m 592ms/step - accuracy: 0.8994 - loss: 1.3533 - val_accuracy: 0.8773 - val_loss: 1.2186\n",
      "Epoch 3/5\n",
      "\u001b[1m32/32\u001b[0m \u001b[32m━━━━━━━━━━━━━━━━━━━━\u001b[0m\u001b[37m\u001b[0m \u001b[1m19s\u001b[0m 590ms/step - accuracy: 0.8989 - loss: 1.0278 - val_accuracy: 0.8773 - val_loss: 1.1630\n",
      "Epoch 4/5\n",
      "\u001b[1m32/32\u001b[0m \u001b[32m━━━━━━━━━━━━━━━━━━━━\u001b[0m\u001b[37m\u001b[0m \u001b[1m19s\u001b[0m 590ms/step - accuracy: 0.9010 - loss: 0.9588 - val_accuracy: 0.8773 - val_loss: 1.1473\n",
      "Epoch 5/5\n",
      "\u001b[1m32/32\u001b[0m \u001b[32m━━━━━━━━━━━━━━━━━━━━\u001b[0m\u001b[37m\u001b[0m \u001b[1m19s\u001b[0m 591ms/step - accuracy: 0.9016 - loss: 0.9357 - val_accuracy: 0.8773 - val_loss: 1.1312\n"
     ]
    }
   ],
   "source": [
    "encoder_input_data = np.array(train_data['English_tokens'].tolist())\n",
    "decoder_input_data = np.array(train_data['Urdu_tokens'].tolist())\n",
    "decoder_target_data = np.expand_dims(np.roll(decoder_input_data, shift=-1, axis=1), -1)\n",
    "\n",
    "history = transformer_model.fit(\n",
    "    [encoder_input_data, decoder_input_data],\n",
    "    decoder_target_data,\n",
    "    batch_size=BATCH_SIZE,\n",
    "    epochs=EPOCHS,\n",
    "    validation_data=(\n",
    "        [np.array(val_data['English_tokens'].tolist()), np.array(val_data['Urdu_tokens'].tolist())],\n",
    "        np.expand_dims(np.roll(np.array(val_data['Urdu_tokens'].tolist()), shift=-1, axis=1), -1)\n",
    "    ),\n",
    "    verbose=1\n",
    ")\n"
   ]
  },
  {
   "cell_type": "markdown",
   "metadata": {},
   "source": [
    "### Test Data Evaluation"
   ]
  },
  {
   "cell_type": "code",
   "execution_count": 51,
   "metadata": {
    "execution": {
     "iopub.execute_input": "2024-11-16T20:21:17.486109Z",
     "iopub.status.busy": "2024-11-16T20:21:17.485668Z",
     "iopub.status.idle": "2024-11-16T20:21:18.647190Z",
     "shell.execute_reply": "2024-11-16T20:21:18.646381Z",
     "shell.execute_reply.started": "2024-11-16T20:21:17.486068Z"
    }
   },
   "outputs": [
    {
     "name": "stdout",
     "output_type": "stream",
     "text": [
      "\u001b[1m7/7\u001b[0m \u001b[32m━━━━━━━━━━━━━━━━━━━━\u001b[0m\u001b[37m\u001b[0m \u001b[1m1s\u001b[0m 151ms/step - accuracy: 0.8592 - loss: 1.3124\n",
      "Test Loss: 1.3282160758972168, Test Accuracy: 0.8574023246765137\n"
     ]
    }
   ],
   "source": [
    "start_time = time.time()\n",
    "\n",
    "test_encoder_input = np.array(test_data['English_tokens'].tolist())\n",
    "test_decoder_input = np.array(test_data['Urdu_tokens'].tolist())\n",
    "test_decoder_target = np.expand_dims(np.roll(test_decoder_input, shift=-1, axis=1), -1)\n",
    "\n",
    "test_loss, test_accuracy = transformer_model.evaluate([test_encoder_input, test_decoder_input], test_decoder_target)\n",
    "print(f\"Test Loss: {test_loss}, Test Accuracy: {test_accuracy}\")\n",
    "\n",
    "end_time = time.time()\n",
    "\n",
    "transformer_perplexity = np.exp(test_loss)\n",
    "\n",
    "transformer_time = end_time - start_time"
   ]
  },
  {
   "cell_type": "markdown",
   "metadata": {},
   "source": [
    "### Accuracy and Loss Plots"
   ]
  },
  {
   "cell_type": "code",
   "execution_count": 37,
   "metadata": {
    "execution": {
     "iopub.execute_input": "2024-11-16T19:55:13.586843Z",
     "iopub.status.busy": "2024-11-16T19:55:13.586110Z",
     "iopub.status.idle": "2024-11-16T19:55:14.211951Z",
     "shell.execute_reply": "2024-11-16T19:55:14.211008Z",
     "shell.execute_reply.started": "2024-11-16T19:55:13.586802Z"
    }
   },
   "outputs": [
    {
     "data": {
      "image/png": "[encoded data removed]",
      "text/plain": [
       "<Figure size 1200x600 with 2 Axes>"
      ]
     },
     "metadata": {},
     "output_type": "display_data"
    }
   ],
   "source": [
    "\n",
    "plt.figure(figsize=(12, 6))\n",
    "\n",
    "\n",
    "plt.subplot(1, 2, 1)\n",
    "plt.plot(history.history['loss'], label='Training Loss')\n",
    "plt.plot(history.history['val_loss'], label='Validation Loss')\n",
    "plt.title('Training and Validation Loss')\n",
    "plt.xlabel('Epochs')\n",
    "plt.ylabel('Loss')\n",
    "plt.legend()\n",
    "\n",
    "\n",
    "plt.subplot(1, 2, 2)\n",
    "plt.plot(history.history['accuracy'], label='Training Accuracy')\n",
    "plt.plot(history.history['val_accuracy'], label='Validation Accuracy')\n",
    "plt.title('Training and Validation Accuracy')\n",
    "plt.xlabel('Epochs')\n",
    "plt.ylabel('Accuracy')\n",
    "plt.legend()\n",
    "\n",
    "plt.tight_layout()\n",
    "plt.show()"
   ]
  },
  {
   "cell_type": "markdown",
   "metadata": {
    "execution": {
     "iopub.execute_input": "2024-11-16T19:25:59.849635Z",
     "iopub.status.busy": "2024-11-16T19:25:59.848833Z",
     "iopub.status.idle": "2024-11-16T19:25:59.853783Z",
     "shell.execute_reply": "2024-11-16T19:25:59.852696Z",
     "shell.execute_reply.started": "2024-11-16T19:25:59.849596Z"
    }
   },
   "source": [
    "### Function for Finding out Vocabulary"
   ]
  },
  {
   "cell_type": "code",
   "execution_count": 9,
   "metadata": {
    "execution": {
     "iopub.execute_input": "2024-11-16T19:04:44.625422Z",
     "iopub.status.busy": "2024-11-16T19:04:44.624784Z",
     "iopub.status.idle": "2024-11-16T19:04:44.630918Z",
     "shell.execute_reply": "2024-11-16T19:04:44.629928Z",
     "shell.execute_reply.started": "2024-11-16T19:04:44.625383Z"
    }
   },
   "outputs": [],
   "source": [
    "def get_vocab_size(tokenized_data):\n",
    "    \"\"\"Get the maximum token ID from the data and add 1 for padding\"\"\"\n",
    "    max_token = max(max(max(seq) for seq in tokenized_data['English_tokens']),\n",
    "                   max(max(seq) for seq in tokenized_data['Urdu_tokens']))\n",
    "    return max_token + 1"
   ]
  },
  {
   "cell_type": "markdown",
   "metadata": {},
   "source": [
    "## LSTM Implementation"
   ]
  },
  {
   "cell_type": "markdown",
   "metadata": {},
   "source": [
    "### HyperParameters"
   ]
  },
  {
   "cell_type": "code",
   "execution_count": 21,
   "metadata": {
    "execution": {
     "iopub.execute_input": "2024-11-16T19:16:42.167106Z",
     "iopub.status.busy": "2024-11-16T19:16:42.166143Z",
     "iopub.status.idle": "2024-11-16T19:16:42.171469Z",
     "shell.execute_reply": "2024-11-16T19:16:42.170533Z",
     "shell.execute_reply.started": "2024-11-16T19:16:42.167063Z"
    }
   },
   "outputs": [],
   "source": [
    "embedding_dim = 128\n",
    "lstm_units = 256\n",
    "batch_size = 32\n",
    "epochs = 10\n",
    "dropout_rate = 0.1\n"
   ]
  },
  {
   "cell_type": "code",
   "execution_count": 22,
   "metadata": {
    "execution": {
     "iopub.execute_input": "2024-11-16T19:16:52.883710Z",
     "iopub.status.busy": "2024-11-16T19:16:52.882854Z",
     "iopub.status.idle": "2024-11-16T19:16:53.023687Z",
     "shell.execute_reply": "2024-11-16T19:16:53.022941Z",
     "shell.execute_reply.started": "2024-11-16T19:16:52.883669Z"
    }
   },
   "outputs": [],
   "source": [
    "train_data = train_data[:10000]\n",
    "val_data = val_data[:200]\n",
    "test_data = test_data[:200]\n",
    "\n",
    "\n",
    "english_vocab_size = get_vocab_size(train_data)\n",
    "urdu_vocab_size = get_vocab_size(train_data)"
   ]
  },
  {
   "cell_type": "markdown",
   "metadata": {},
   "source": [
    "### The LSTM Model Function"
   ]
  },
  {
   "cell_type": "code",
   "execution_count": 23,
   "metadata": {
    "execution": {
     "iopub.execute_input": "2024-11-16T19:16:55.372036Z",
     "iopub.status.busy": "2024-11-16T19:16:55.371418Z",
     "iopub.status.idle": "2024-11-16T19:16:55.380188Z",
     "shell.execute_reply": "2024-11-16T19:16:55.379300Z",
     "shell.execute_reply.started": "2024-11-16T19:16:55.371999Z"
    }
   },
   "outputs": [],
   "source": [
    "def build_lstm_model(english_vocab_size, urdu_vocab_size, max_seq_length, embedding_dim, lstm_units):\n",
    "    encoder_inputs = Input(shape=(max_seq_length,), name=\"encoder_inputs\")\n",
    "    encoder_embedding = Embedding(english_vocab_size, embedding_dim, mask_zero=True, name=\"encoder_embedding\")(encoder_inputs)\n",
    "    encoder_lstm = LSTM(lstm_units, return_state=True, dropout=dropout_rate, name=\"encoder_lstm\")\n",
    "    _, state_h, state_c = encoder_lstm(encoder_embedding)\n",
    "    encoder_states = [state_h, state_c]\n",
    "\n",
    "    decoder_inputs = Input(shape=(max_seq_length,), name=\"decoder_inputs\")\n",
    "    decoder_embedding = Embedding(urdu_vocab_size, embedding_dim, mask_zero=True, name=\"decoder_embedding\")(decoder_inputs)\n",
    "    decoder_lstm = LSTM(lstm_units, return_sequences=True, return_state=True, dropout=dropout_rate, name=\"decoder_lstm\")\n",
    "    decoder_outputs, _, _ = decoder_lstm(decoder_embedding, initial_state=encoder_states)\n",
    "    decoder_dense = TimeDistributed(Dense(urdu_vocab_size, activation=\"softmax\"), name=\"decoder_dense\")\n",
    "    decoder_outputs = decoder_dense(decoder_outputs)\n",
    "\n",
    "    model = Model([encoder_inputs, decoder_inputs], decoder_outputs)\n",
    "    return model\n"
   ]
  },
  {
   "cell_type": "code",
   "execution_count": 24,
   "metadata": {
    "execution": {
     "iopub.execute_input": "2024-11-16T19:16:57.300696Z",
     "iopub.status.busy": "2024-11-16T19:16:57.299958Z",
     "iopub.status.idle": "2024-11-16T19:16:57.390544Z",
     "shell.execute_reply": "2024-11-16T19:16:57.389762Z",
     "shell.execute_reply.started": "2024-11-16T19:16:57.300656Z"
    }
   },
   "outputs": [],
   "source": [
    "max_seq_length = max_urdu_len_train  \n",
    "lstm_model = build_lstm_model(english_vocab_size, urdu_vocab_size, max_seq_length, embedding_dim, lstm_units)\n",
    "\n",
    "\n",
    "lstm_model.compile(optimizer=Adam(learning_rate=0.001), loss=\"sparse_categorical_crossentropy\", metrics=[\"accuracy\"])"
   ]
  },
  {
   "cell_type": "markdown",
   "metadata": {},
   "source": [
    "### Model Training"
   ]
  },
  {
   "cell_type": "code",
   "execution_count": 26,
   "metadata": {
    "execution": {
     "iopub.execute_input": "2024-11-16T19:18:44.363760Z",
     "iopub.status.busy": "2024-11-16T19:18:44.363354Z",
     "iopub.status.idle": "2024-11-16T19:23:40.121308Z",
     "shell.execute_reply": "2024-11-16T19:23:40.120303Z",
     "shell.execute_reply.started": "2024-11-16T19:18:44.363721Z"
    }
   },
   "outputs": [
    {
     "name": "stdout",
     "output_type": "stream",
     "text": [
      "Epoch 1/10\n",
      "\u001b[1m32/32\u001b[0m \u001b[32m━━━━━━━━━━━━━━━━━━━━\u001b[0m\u001b[37m\u001b[0m \u001b[1m30s\u001b[0m 935ms/step - accuracy: 0.1211 - loss: 5.8585 - val_accuracy: 0.0069 - val_loss: 6.1739\n",
      "Epoch 2/10\n",
      "\u001b[1m32/32\u001b[0m \u001b[32m━━━━━━━━━━━━━━━━━━━━\u001b[0m\u001b[37m\u001b[0m \u001b[1m29s\u001b[0m 923ms/step - accuracy: 0.4809 - loss: 5.8127 - val_accuracy: 0.0089 - val_loss: 6.1360\n",
      "Epoch 3/10\n",
      "\u001b[1m32/32\u001b[0m \u001b[32m━━━━━━━━━━━━━━━━━━━━\u001b[0m\u001b[37m\u001b[0m \u001b[1m30s\u001b[0m 924ms/step - accuracy: 0.0097 - loss: 5.7340 - val_accuracy: 0.0113 - val_loss: 6.0514\n",
      "Epoch 4/10\n",
      "\u001b[1m32/32\u001b[0m \u001b[32m━━━━━━━━━━━━━━━━━━━━\u001b[0m\u001b[37m\u001b[0m \u001b[1m30s\u001b[0m 926ms/step - accuracy: 0.0106 - loss: 5.6399 - val_accuracy: 0.0116 - val_loss: 5.9063\n",
      "Epoch 5/10\n",
      "\u001b[1m32/32\u001b[0m \u001b[32m━━━━━━━━━━━━━━━━━━━━\u001b[0m\u001b[37m\u001b[0m \u001b[1m29s\u001b[0m 917ms/step - accuracy: 0.0106 - loss: 5.5199 - val_accuracy: 0.0124 - val_loss: 5.8417\n",
      "Epoch 6/10\n",
      "\u001b[1m32/32\u001b[0m \u001b[32m━━━━━━━━━━━━━━━━━━━━\u001b[0m\u001b[37m\u001b[0m \u001b[1m29s\u001b[0m 918ms/step - accuracy: 0.0119 - loss: 5.3925 - val_accuracy: 0.0130 - val_loss: 5.8628\n",
      "Epoch 7/10\n",
      "\u001b[1m32/32\u001b[0m \u001b[32m━━━━━━━━━━━━━━━━━━━━\u001b[0m\u001b[37m\u001b[0m \u001b[1m29s\u001b[0m 917ms/step - accuracy: 0.0127 - loss: 5.3112 - val_accuracy: 0.0130 - val_loss: 5.7854\n",
      "Epoch 8/10\n",
      "\u001b[1m32/32\u001b[0m \u001b[32m━━━━━━━━━━━━━━━━━━━━\u001b[0m\u001b[37m\u001b[0m \u001b[1m30s\u001b[0m 931ms/step - accuracy: 0.0131 - loss: 5.2175 - val_accuracy: 0.0138 - val_loss: 5.7709\n",
      "Epoch 9/10\n",
      "\u001b[1m32/32\u001b[0m \u001b[32m━━━━━━━━━━━━━━━━━━━━\u001b[0m\u001b[37m\u001b[0m \u001b[1m29s\u001b[0m 919ms/step - accuracy: 0.0135 - loss: 5.1567 - val_accuracy: 0.0147 - val_loss: 5.7440\n",
      "Epoch 10/10\n",
      "\u001b[1m32/32\u001b[0m \u001b[32m━━━━━━━━━━━━━━━━━━━━\u001b[0m\u001b[37m\u001b[0m \u001b[1m30s\u001b[0m 939ms/step - accuracy: 0.0144 - loss: 5.0704 - val_accuracy: 0.0150 - val_loss: 5.7061\n"
     ]
    }
   ],
   "source": [
    "encoder_input_data = np.array(train_data['English_tokens'].tolist())\n",
    "decoder_input_data = np.array(train_data['Urdu_tokens'].tolist())\n",
    "decoder_target_data = np.expand_dims(np.roll(decoder_input_data, shift=-1, axis=1), -1)  # Target shifted by 1\n",
    "\n",
    "history = lstm_model.fit(\n",
    "    [encoder_input_data, decoder_input_data],\n",
    "    decoder_target_data,\n",
    "    batch_size=batch_size,\n",
    "    epochs=epochs,\n",
    "    validation_data=(\n",
    "        [np.array(val_data['English_tokens'].tolist()), np.array(val_data['Urdu_tokens'].tolist())],\n",
    "        np.expand_dims(np.roll(np.array(val_data['Urdu_tokens'].tolist()), shift=-1, axis=1), -1)\n",
    "    ),\n",
    "    verbose=1  \n",
    ")\n"
   ]
  },
  {
   "cell_type": "markdown",
   "metadata": {
    "execution": {
     "iopub.execute_input": "2024-11-16T19:15:15.051735Z",
     "iopub.status.busy": "2024-11-16T19:15:15.050841Z",
     "iopub.status.idle": "2024-11-16T19:15:15.055703Z",
     "shell.execute_reply": "2024-11-16T19:15:15.054718Z",
     "shell.execute_reply.started": "2024-11-16T19:15:15.051695Z"
    }
   },
   "source": [
    "### Model Evaluation and Loss and Accuracy Plots"
   ]
  },
  {
   "cell_type": "code",
   "execution_count": 52,
   "metadata": {
    "execution": {
     "iopub.execute_input": "2024-11-16T20:21:33.904869Z",
     "iopub.status.busy": "2024-11-16T20:21:33.903775Z",
     "iopub.status.idle": "2024-11-16T20:21:36.238106Z",
     "shell.execute_reply": "2024-11-16T20:21:36.237108Z",
     "shell.execute_reply.started": "2024-11-16T20:21:33.904797Z"
    }
   },
   "outputs": [
    {
     "name": "stdout",
     "output_type": "stream",
     "text": [
      "\u001b[1m7/7\u001b[0m \u001b[32m━━━━━━━━━━━━━━━━━━━━\u001b[0m\u001b[37m\u001b[0m \u001b[1m2s\u001b[0m 238ms/step - accuracy: 0.0167 - loss: 6.0638\n",
      "Test Loss: 6.06246280670166, Test Accuracy: 0.01718750037252903\n"
     ]
    },
    {
     "data": {
      "image/png": "[encoded data removed]",
      "text/plain": [
       "<Figure size 1200x600 with 2 Axes>"
      ]
     },
     "metadata": {},
     "output_type": "display_data"
    }
   ],
   "source": [
    "start_time = time.time()\n",
    "test_encoder_input = np.array(test_data['English_tokens'].tolist())\n",
    "test_decoder_input = np.array(test_data['Urdu_tokens'].tolist())\n",
    "test_decoder_target = np.expand_dims(np.roll(test_decoder_input, shift=-1, axis=1), -1)\n",
    "\n",
    "test_loss, test_accuracy = lstm_model.evaluate([test_encoder_input, test_decoder_input], test_decoder_target)\n",
    "print(f\"Test Loss: {test_loss}, Test Accuracy: {test_accuracy}\")\n",
    "\n",
    "end_time = time.time()\n",
    "\n",
    "lstm_perplexity = np.exp(test_loss)\n",
    "\n",
    "lstm_time = end_time - start_time\n",
    "\n",
    "plt.figure(figsize=(12, 6))\n",
    "\n",
    "\n",
    "plt.subplot(1, 2, 1)\n",
    "plt.plot(history.history['loss'], label='Training Loss')\n",
    "plt.plot(history.history['val_loss'], label='Validation Loss')\n",
    "plt.title('Training and Validation Loss')\n",
    "plt.xlabel('Epochs')\n",
    "plt.ylabel('Loss')\n",
    "plt.legend()\n",
    "\n",
    "\n",
    "plt.subplot(1, 2, 2)\n",
    "plt.plot(history.history['accuracy'], label='Training Accuracy')\n",
    "plt.plot(history.history['val_accuracy'], label='Validation Accuracy')\n",
    "plt.title('Training and Validation Accuracy')\n",
    "plt.xlabel('Epochs')\n",
    "plt.ylabel('Accuracy')\n",
    "plt.legend()\n",
    "\n",
    "plt.tight_layout()\n",
    "plt.show()\n"
   ]
  },
  {
   "cell_type": "markdown",
   "metadata": {},
   "source": [
    "## Model Comparisons"
   ]
  },
  {
   "cell_type": "markdown",
   "metadata": {},
   "source": [
    "### Accuracy Plots Above"
   ]
  },
  {
   "cell_type": "markdown",
   "metadata": {},
   "source": [
    "### Inference Time"
   ]
  },
  {
   "cell_type": "code",
   "execution_count": 53,
   "metadata": {
    "execution": {
     "iopub.execute_input": "2024-11-16T20:21:38.547018Z",
     "iopub.status.busy": "2024-11-16T20:21:38.546659Z",
     "iopub.status.idle": "2024-11-16T20:21:38.552612Z",
     "shell.execute_reply": "2024-11-16T20:21:38.551567Z",
     "shell.execute_reply.started": "2024-11-16T20:21:38.546984Z"
    }
   },
   "outputs": [
    {
     "name": "stdout",
     "output_type": "stream",
     "text": [
      "LSTM Prediction Time 1.7120978832244873\n",
      "Transformer Prediction Time 1.1551399230957031\n"
     ]
    }
   ],
   "source": [
    "print(\"LSTM Prediction Time\" , lstm_time)\n",
    "\n",
    "print(\"Transformer Prediction Time\", transformer_time)"
   ]
  },
  {
   "cell_type": "markdown",
   "metadata": {},
   "source": [
    "### Perplexity"
   ]
  },
  {
   "cell_type": "code",
   "execution_count": 54,
   "metadata": {
    "execution": {
     "iopub.execute_input": "2024-11-16T20:21:41.814549Z",
     "iopub.status.busy": "2024-11-16T20:21:41.813800Z",
     "iopub.status.idle": "2024-11-16T20:21:41.819256Z",
     "shell.execute_reply": "2024-11-16T20:21:41.818290Z",
     "shell.execute_reply.started": "2024-11-16T20:21:41.814507Z"
    }
   },
   "outputs": [
    {
     "name": "stdout",
     "output_type": "stream",
     "text": [
      "Transformer Perplexity 3.7743043059283083\n",
      "LSTM Perplexity 429.4317429609724\n"
     ]
    }
   ],
   "source": [
    "print(\"Transformer Perplexity\" , transformer_perplexity)\n",
    "\n",
    "print(\"LSTM Perplexity\" , lstm_perplexity)"
   ]
  }
 ],
 "metadata": {
  "kaggle": {
   "accelerator": "gpu",
   "dataSources": [
    {
     "datasetId": 6097238,
     "sourceId": 9920966,
     "sourceType": "datasetVersion"
    },
    {
     "datasetId": 6097241,
     "sourceId": 9920969,
     "sourceType": "datasetVersion"
    }
   ],
   "dockerImageVersionId": 30787,
   "isGpuEnabled": true,
   "isInternetEnabled": true,
   "language": "python",
   "sourceType": "notebook"
  },
  "kernelspec": {
   "display_name": "Python 3 (ipykernel)",
   "language": "python",
   "name": "python3"
  },
  "language_info": {
   "codemirror_mode": {
    "name": "ipython",
    "version": 3
   },
   "file_extension": ".py",
   "mimetype": "text/x-python",
   "name": "python",
   "nbconvert_exporter": "python",
   "pygments_lexer": "ipython3",
   "version": "3.11.4"
  }
 },
 "nbformat": 4,
 "nbformat_minor": 4
}
